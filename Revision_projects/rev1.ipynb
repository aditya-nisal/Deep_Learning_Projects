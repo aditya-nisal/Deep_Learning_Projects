{
 "cells": [
  {
   "cell_type": "code",
   "execution_count": 1,
   "metadata": {},
   "outputs": [
    {
     "name": "stderr",
     "output_type": "stream",
     "text": [
      "/home/aditya/miniconda3/envs/trtpose/lib/python3.8/site-packages/torchvision/io/image.py:13: UserWarning: Failed to load image Python extension: '/home/aditya/miniconda3/envs/trtpose/lib/python3.8/site-packages/torchvision/image.so: undefined symbol: _ZNK3c107SymBool10guard_boolEPKcl'If you don't plan on using image functionality from `torchvision.io`, you can ignore this warning. Otherwise, there might be something wrong with your environment. Did you have `libjpeg` or `libpng` installed before building `torchvision` from source?\n",
      "  warn(\n"
     ]
    }
   ],
   "source": [
    "import torch\n",
    "import torch.nn as nn\n",
    "import torch.optim as optim\n",
    "import torchvision\n",
    "import torchvision.transforms as transforms\n",
    "import torch.nn.functional as F"
   ]
  },
  {
   "cell_type": "code",
   "execution_count": 2,
   "metadata": {},
   "outputs": [],
   "source": [
    "torch.cuda.empty_cache()"
   ]
  },
  {
   "cell_type": "code",
   "execution_count": 3,
   "metadata": {},
   "outputs": [
    {
     "name": "stdout",
     "output_type": "stream",
     "text": [
      "cuda:0\n"
     ]
    }
   ],
   "source": [
    "device = torch.device(\"cuda:0\" if torch.cuda.is_available() else \"cpu\")\n",
    "print(device)"
   ]
  },
  {
   "cell_type": "markdown",
   "metadata": {},
   "source": [
    "### Transform data"
   ]
  },
  {
   "cell_type": "code",
   "execution_count": 4,
   "metadata": {},
   "outputs": [],
   "source": [
    "transform = transforms.Compose([transforms.RandomHorizontalFlip(),\n",
    "                               transforms.RandomCrop(32, padding=1),\n",
    "                               transforms.ToTensor(),\n",
    "                               transforms.Normalize((0.5, 0.5, 0.5), (0.5, 0.5, 0.5))])"
   ]
  },
  {
   "cell_type": "markdown",
   "metadata": {},
   "source": [
    "### Loading dataset and dataloader for training and testing"
   ]
  },
  {
   "cell_type": "code",
   "execution_count": 5,
   "metadata": {},
   "outputs": [
    {
     "name": "stdout",
     "output_type": "stream",
     "text": [
      "Files already downloaded and verified\n",
      "Files already downloaded and verified\n"
     ]
    }
   ],
   "source": [
    "import torch.utils\n",
    "import torch.utils.data\n",
    "\n",
    "\n",
    "trainset = torchvision.datasets.CIFAR10(root=\"/home/aditya/Deep_Learning_Projects/Revision_projects\", train=True, download=True, transform=transform)\n",
    "trainloader = torch.utils.data.DataLoader(dataset = trainset, shuffle=True, batch_size=100, num_workers=2)\n",
    "testset = torchvision.datasets.CIFAR10(root=\"/home/aditya/Deep_Learning_Projects/Revision_projects\", train=False, download=True, transform=transform)\n",
    "testloader = torch.utils.data.DataLoader(dataset = testset, shuffle=False, batch_size=100, num_workers=2)"
   ]
  },
  {
   "cell_type": "markdown",
   "metadata": {},
   "source": [
    "### Visualization"
   ]
  },
  {
   "cell_type": "code",
   "execution_count": 6,
   "metadata": {},
   "outputs": [
    {
     "data": {
      "image/png": "[encoded data removed]",
      "text/plain": [
       "<Figure size 640x480 with 1 Axes>"
      ]
     },
     "metadata": {},
     "output_type": "display_data"
    },
    {
     "name": "stdout",
     "output_type": "stream",
     "text": [
      "bird ship cat bird\n"
     ]
    }
   ],
   "source": [
    "import matplotlib.pyplot as plt\n",
    "import numpy as np\n",
    "classes = ('plane', 'car', 'bird', 'cat', 'deer', 'dog', 'frog', 'horse', 'ship', 'truck')\n",
    "def imshow(img):\n",
    "    img = img / 2 + 0.5\n",
    "    npimg = img.numpy()\n",
    "    plt.imshow(np.transpose(npimg, (1, 2, 0)))\n",
    "    plt.show()\n",
    "\n",
    "detaiter = iter(trainloader)\n",
    "images, labels = detaiter.next()\n",
    "\n",
    "imshow(torchvision.utils.make_grid(images[:4]))\n",
    "print(' '.join(f'{classes[labels[j]]}' for j in range(4)))"
   ]
  },
  {
   "cell_type": "markdown",
   "metadata": {},
   "source": [
    "### Architecture"
   ]
  },
  {
   "cell_type": "code",
   "execution_count": 7,
   "metadata": {},
   "outputs": [],
   "source": [
    "class Net(nn.Module):\n",
    "    def __init__(self):\n",
    "        super(Net, self).__init__()\n",
    "        self.conv1 = nn.Conv2d(in_channels = 3, out_channels = 32, kernel_size= 3, padding=1)\n",
    "        self.conv2 = nn.Conv2d(in_channels = 32, out_channels = 64, kernel_size= 3, padding=1)\n",
    "        self.conv3 = nn.Conv2d(in_channels = 64, out_channels = 128, kernel_size= 3, padding=1)\n",
    "        self.pool = nn.MaxPool2d(kernel_size= 2, stride = 2)\n",
    "        self.fc1 = nn.Linear(in_features=128*4*4, out_features=512)\n",
    "        self.fc2 = nn.Linear(in_features=512,out_features=10)\n",
    "        self.dropout = nn.Dropout(p=0.5)\n",
    "\n",
    "    def forward(self, x):\n",
    "        x = self.pool(F.relu(self.conv1(x)))\n",
    "        x = self.pool(F.relu(self.conv2(x)))\n",
    "        x = self.pool(F.relu(self.conv3(x)))\n",
    "        x = x.view(-1, 128*4*4)\n",
    "        x = F.relu(self.fc1(x))\n",
    "        x = self.dropout(x)\n",
    "        x = F.relu(self.fc2(x))\n",
    "\n",
    "        return x"
   ]
  },
  {
   "cell_type": "markdown",
   "metadata": {},
   "source": [
    "### Setting hyperparameters"
   ]
  },
  {
   "cell_type": "code",
   "execution_count": 8,
   "metadata": {},
   "outputs": [],
   "source": [
    "from torch.utils.tensorboard import SummaryWriter\n",
    "import torch.optim as optim\n",
    "net = Net().to(device)\n",
    "criterion = nn.CrossEntropyLoss()\n",
    "optimizer = optim.SGD(net.parameters(), lr=0.001, momentum=0.9)\n",
    "writer = SummaryWriter()\n",
    "scheduler = optim.lr_scheduler.StepLR(optimizer, step_size=10, gamma = 0.1)"
   ]
  },
  {
   "cell_type": "markdown",
   "metadata": {},
   "source": [
    "### Training"
   ]
  },
  {
   "cell_type": "code",
   "execution_count": 9,
   "metadata": {},
   "outputs": [],
   "source": [
    "def validate_model(net, testloader, criterion):\n",
    "    net.eval()\n",
    "    validation_loss = 0.0\n",
    "    with torch.no_grad():\n",
    "        for data in testloader:\n",
    "            images, labels = data\n",
    "            images, labels = images.to(device), labels.to(device)\n",
    "            outputs = net(images)\n",
    "            loss = criterion(outputs, labels)\n",
    "            validation_loss += loss.item()\n",
    "        net.train()\n",
    "        return validation_loss / len(testloader)"
   ]
  },
  {
   "cell_type": "code",
   "execution_count": 10,
   "metadata": {},
   "outputs": [],
   "source": [
    "def train_model(net, trainloader, criterion, optimizer, n_epoch = 10, patience = 2):\n",
    "    best_loss = float('inf')\n",
    "    patience_counter = 0\n",
    "\n",
    "    for epoch in range(n_epoch):\n",
    "        running_loss = 0.0\n",
    "        for i, data in enumerate(trainloader):\n",
    "            inputs, labels = data\n",
    "            inputs, labels = inputs.to(device), labels.to(device)\n",
    "            optimizer.zero_grad()\n",
    "            outputs = net(inputs)\n",
    "            loss = criterion(outputs, labels)\n",
    "            loss.backward()\n",
    "            optimizer.step()\n",
    "            running_loss+=loss.item()\n",
    "            if i%100==00:\n",
    "                print(f'[{epoch + 1}, {i + 1}] loss: {running_loss / 100:.3f}')\n",
    "                writer.add_scalar('training loss', running_loss/100, epoch*len(trainloader) + i)\n",
    "                running_loss = 0\n",
    "            \n",
    "        validation_loss = validate_model(net, testloader, criterion)\n",
    "        writer.add_scalar('validation', validation_loss/100, epoch*len(trainloader) + i)\n",
    "        if validation_loss < best_loss:\n",
    "            best_loss = validation_loss\n",
    "            patience_counter = 0\n",
    "            torch.save(net.state_dict(), 'Best_model.pth')\n",
    "        else:\n",
    "            patience_counter +=1\n",
    "\n",
    "        if patience_counter >= patience:\n",
    "            print(\"Early Stopping\")\n",
    "            break\n",
    "        # scheduler.step()\n",
    "    print(\"Finished training\")\n",
    "    writer.close()\n"
   ]
  },
  {
   "cell_type": "code",
   "execution_count": 11,
   "metadata": {},
   "outputs": [
    {
     "name": "stdout",
     "output_type": "stream",
     "text": [
      "[1, 1] loss: 0.023\n",
      "[1, 101] loss: 2.302\n",
      "[1, 201] loss: 2.302\n",
      "[1, 301] loss: 2.301\n",
      "[1, 401] loss: 2.299\n",
      "[2, 1] loss: 0.023\n",
      "[2, 101] loss: 2.293\n",
      "[2, 201] loss: 2.287\n",
      "[2, 301] loss: 2.277\n",
      "[2, 401] loss: 2.259\n",
      "[3, 1] loss: 0.022\n",
      "[3, 101] loss: 2.180\n",
      "[3, 201] loss: 2.139\n",
      "[3, 301] loss: 2.106\n",
      "[3, 401] loss: 2.055\n",
      "[4, 1] loss: 0.020\n",
      "[4, 101] loss: 1.993\n",
      "[4, 201] loss: 1.970\n",
      "[4, 301] loss: 1.937\n",
      "[4, 401] loss: 1.901\n",
      "[5, 1] loss: 0.019\n",
      "[5, 101] loss: 1.852\n",
      "[5, 201] loss: 1.825\n",
      "[5, 301] loss: 1.795\n",
      "[5, 401] loss: 1.759\n",
      "[6, 1] loss: 0.017\n",
      "[6, 101] loss: 1.691\n",
      "[6, 201] loss: 1.682\n",
      "[6, 301] loss: 1.636\n",
      "[6, 401] loss: 1.645\n",
      "[7, 1] loss: 0.016\n",
      "[7, 101] loss: 1.595\n",
      "[7, 201] loss: 1.568\n",
      "[7, 301] loss: 1.569\n",
      "[7, 401] loss: 1.567\n",
      "[8, 1] loss: 0.016\n",
      "[8, 101] loss: 1.527\n",
      "[8, 201] loss: 1.529\n",
      "[8, 301] loss: 1.522\n",
      "[8, 401] loss: 1.493\n",
      "[9, 1] loss: 0.015\n",
      "[9, 101] loss: 1.489\n",
      "[9, 201] loss: 1.471\n",
      "[9, 301] loss: 1.455\n",
      "[9, 401] loss: 1.453\n",
      "[10, 1] loss: 0.014\n",
      "[10, 101] loss: 1.432\n",
      "[10, 201] loss: 1.428\n",
      "[10, 301] loss: 1.420\n",
      "[10, 401] loss: 1.422\n",
      "[11, 1] loss: 0.014\n",
      "[11, 101] loss: 1.407\n",
      "[11, 201] loss: 1.388\n",
      "[11, 301] loss: 1.384\n",
      "[11, 401] loss: 1.382\n",
      "[12, 1] loss: 0.013\n",
      "[12, 101] loss: 1.357\n",
      "[12, 201] loss: 1.347\n",
      "[12, 301] loss: 1.374\n",
      "[12, 401] loss: 1.341\n",
      "[13, 1] loss: 0.013\n",
      "[13, 101] loss: 1.335\n",
      "[13, 201] loss: 1.330\n",
      "[13, 301] loss: 1.334\n",
      "[13, 401] loss: 1.307\n",
      "[14, 1] loss: 0.013\n",
      "[14, 101] loss: 1.302\n",
      "[14, 201] loss: 1.300\n",
      "[14, 301] loss: 1.299\n",
      "[14, 401] loss: 1.301\n",
      "[15, 1] loss: 0.014\n",
      "[15, 101] loss: 1.273\n",
      "[15, 201] loss: 1.269\n",
      "[15, 301] loss: 1.258\n",
      "[15, 401] loss: 1.277\n",
      "[16, 1] loss: 0.014\n",
      "[16, 101] loss: 1.247\n",
      "[16, 201] loss: 1.239\n",
      "[16, 301] loss: 1.226\n",
      "[16, 401] loss: 1.228\n",
      "[17, 1] loss: 0.010\n",
      "[17, 101] loss: 1.224\n",
      "[17, 201] loss: 1.222\n",
      "[17, 301] loss: 1.199\n",
      "[17, 401] loss: 1.214\n",
      "[18, 1] loss: 0.012\n",
      "[18, 101] loss: 1.168\n",
      "[18, 201] loss: 1.183\n",
      "[18, 301] loss: 1.195\n",
      "[18, 401] loss: 1.192\n",
      "[19, 1] loss: 0.010\n",
      "[19, 101] loss: 1.147\n",
      "[19, 201] loss: 1.156\n",
      "[19, 301] loss: 1.159\n",
      "[19, 401] loss: 1.158\n",
      "[20, 1] loss: 0.011\n",
      "[20, 101] loss: 1.132\n",
      "[20, 201] loss: 1.125\n",
      "[20, 301] loss: 1.148\n",
      "[20, 401] loss: 1.142\n",
      "[21, 1] loss: 0.013\n",
      "[21, 101] loss: 1.086\n",
      "[21, 201] loss: 1.115\n",
      "[21, 301] loss: 1.107\n",
      "[21, 401] loss: 1.126\n",
      "[22, 1] loss: 0.009\n",
      "[22, 101] loss: 1.109\n",
      "[22, 201] loss: 1.090\n",
      "[22, 301] loss: 1.084\n",
      "[22, 401] loss: 1.081\n",
      "[23, 1] loss: 0.011\n",
      "[23, 101] loss: 1.070\n",
      "[23, 201] loss: 1.064\n",
      "[23, 301] loss: 1.062\n",
      "[23, 401] loss: 1.070\n",
      "[24, 1] loss: 0.011\n",
      "[24, 101] loss: 1.040\n",
      "[24, 201] loss: 1.048\n",
      "[24, 301] loss: 1.048\n",
      "[24, 401] loss: 1.042\n",
      "[25, 1] loss: 0.009\n",
      "[25, 101] loss: 1.026\n",
      "[25, 201] loss: 1.031\n",
      "[25, 301] loss: 1.027\n",
      "[25, 401] loss: 1.023\n",
      "[26, 1] loss: 0.010\n",
      "[26, 101] loss: 1.003\n",
      "[26, 201] loss: 0.994\n",
      "[26, 301] loss: 1.016\n",
      "[26, 401] loss: 0.990\n",
      "[27, 1] loss: 0.011\n",
      "[27, 101] loss: 0.999\n",
      "[27, 201] loss: 1.013\n",
      "[27, 301] loss: 0.974\n",
      "[27, 401] loss: 0.979\n",
      "[28, 1] loss: 0.009\n",
      "[28, 101] loss: 0.996\n",
      "[28, 201] loss: 0.968\n",
      "[28, 301] loss: 0.966\n",
      "[28, 401] loss: 0.974\n",
      "[29, 1] loss: 0.010\n",
      "[29, 101] loss: 0.960\n",
      "[29, 201] loss: 0.953\n",
      "[29, 301] loss: 0.930\n",
      "[29, 401] loss: 0.955\n",
      "[30, 1] loss: 0.008\n",
      "[30, 101] loss: 0.911\n",
      "[30, 201] loss: 0.958\n",
      "[30, 301] loss: 0.948\n",
      "[30, 401] loss: 0.945\n",
      "[31, 1] loss: 0.009\n",
      "[31, 101] loss: 0.931\n",
      "[31, 201] loss: 0.926\n",
      "[31, 301] loss: 0.913\n",
      "[31, 401] loss: 0.922\n",
      "[32, 1] loss: 0.009\n",
      "[32, 101] loss: 0.900\n",
      "[32, 201] loss: 0.911\n",
      "[32, 301] loss: 0.904\n",
      "[32, 401] loss: 0.908\n",
      "[33, 1] loss: 0.008\n",
      "[33, 101] loss: 0.884\n",
      "[33, 201] loss: 0.910\n",
      "[33, 301] loss: 0.877\n",
      "[33, 401] loss: 0.885\n",
      "[34, 1] loss: 0.010\n",
      "[34, 101] loss: 0.887\n",
      "[34, 201] loss: 0.859\n",
      "[34, 301] loss: 0.874\n",
      "[34, 401] loss: 0.879\n",
      "[35, 1] loss: 0.010\n",
      "[35, 101] loss: 0.873\n",
      "[35, 201] loss: 0.869\n",
      "[35, 301] loss: 0.865\n",
      "[35, 401] loss: 0.854\n",
      "[36, 1] loss: 0.010\n",
      "[36, 101] loss: 0.873\n",
      "[36, 201] loss: 0.848\n",
      "[36, 301] loss: 0.849\n",
      "[36, 401] loss: 0.859\n",
      "[37, 1] loss: 0.007\n",
      "[37, 101] loss: 0.830\n",
      "[37, 201] loss: 0.848\n",
      "[37, 301] loss: 0.839\n",
      "[37, 401] loss: 0.847\n",
      "[38, 1] loss: 0.008\n",
      "[38, 101] loss: 0.815\n",
      "[38, 201] loss: 0.822\n",
      "[38, 301] loss: 0.839\n",
      "[38, 401] loss: 0.813\n",
      "[39, 1] loss: 0.008\n",
      "[39, 101] loss: 0.821\n",
      "[39, 201] loss: 0.823\n",
      "[39, 301] loss: 0.811\n",
      "[39, 401] loss: 0.824\n",
      "[40, 1] loss: 0.009\n",
      "[40, 101] loss: 0.797\n",
      "[40, 201] loss: 0.799\n",
      "[40, 301] loss: 0.797\n",
      "[40, 401] loss: 0.810\n",
      "[41, 1] loss: 0.010\n",
      "[41, 101] loss: 0.793\n",
      "[41, 201] loss: 0.788\n",
      "[41, 301] loss: 0.800\n",
      "[41, 401] loss: 0.787\n",
      "[42, 1] loss: 0.007\n",
      "[42, 101] loss: 0.761\n",
      "[42, 201] loss: 0.792\n",
      "[42, 301] loss: 0.779\n",
      "[42, 401] loss: 0.785\n",
      "[43, 1] loss: 0.007\n",
      "[43, 101] loss: 0.759\n",
      "[43, 201] loss: 0.764\n",
      "[43, 301] loss: 0.775\n",
      "[43, 401] loss: 0.759\n",
      "[44, 1] loss: 0.007\n",
      "[44, 101] loss: 0.769\n",
      "[44, 201] loss: 0.757\n",
      "[44, 301] loss: 0.762\n",
      "[44, 401] loss: 0.757\n",
      "[45, 1] loss: 0.007\n",
      "[45, 101] loss: 0.753\n",
      "[45, 201] loss: 0.744\n",
      "[45, 301] loss: 0.744\n",
      "[45, 401] loss: 0.751\n",
      "[46, 1] loss: 0.006\n",
      "[46, 101] loss: 0.743\n",
      "[46, 201] loss: 0.733\n",
      "[46, 301] loss: 0.749\n",
      "[46, 401] loss: 0.725\n",
      "[47, 1] loss: 0.007\n",
      "[47, 101] loss: 0.716\n",
      "[47, 201] loss: 0.723\n",
      "[47, 301] loss: 0.736\n",
      "[47, 401] loss: 0.724\n",
      "[48, 1] loss: 0.008\n",
      "[48, 101] loss: 0.715\n",
      "[48, 201] loss: 0.702\n",
      "[48, 301] loss: 0.738\n",
      "[48, 401] loss: 0.716\n",
      "[49, 1] loss: 0.007\n",
      "[49, 101] loss: 0.717\n",
      "[49, 201] loss: 0.700\n",
      "[49, 301] loss: 0.700\n",
      "[49, 401] loss: 0.703\n",
      "[50, 1] loss: 0.009\n",
      "[50, 101] loss: 0.708\n",
      "[50, 201] loss: 0.700\n",
      "[50, 301] loss: 0.693\n",
      "[50, 401] loss: 0.708\n",
      "Finished training\n"
     ]
    }
   ],
   "source": [
    "train_model(net, trainloader, criterion, optimizer, n_epoch = 50)"
   ]
  },
  {
   "cell_type": "markdown",
   "metadata": {},
   "source": [
    "### Testing"
   ]
  },
  {
   "cell_type": "code",
   "execution_count": 12,
   "metadata": {},
   "outputs": [
    {
     "name": "stdout",
     "output_type": "stream",
     "text": [
      "Accuracy of the network on the 1000 test images: 72.9 %\n"
     ]
    }
   ],
   "source": [
    "net.load_state_dict(torch.load('Best_model.pth'))\n",
    "correct = 0\n",
    "total = 0\n",
    "with torch.no_grad():\n",
    "    for data in testloader:\n",
    "        images, labels = data\n",
    "        images, labels = images.to(device), labels.to(device)\n",
    "        # print(labels.device)\n",
    "        # print(images.device)\n",
    "        outputs = net(images)\n",
    "        _, predicted = torch.max(outputs, 1)\n",
    "        total += labels.size(0)\n",
    "        correct += (predicted == labels).sum().item()\n",
    "\n",
    "print(f'Accuracy of the network on the 1000 test images: {100*correct / total} %')"
   ]
  },
  {
   "cell_type": "markdown",
   "metadata": {},
   "source": [
    "##### Accuracy using schduler: 52.04%\n",
    "##### Accuracy W/O using schduler: 72.9%"
   ]
  }
 ],
 "metadata": {
  "kernelspec": {
   "display_name": "base",
   "language": "python",
   "name": "python3"
  },
  "language_info": {
   "codemirror_mode": {
    "name": "ipython",
    "version": 3
   },
   "file_extension": ".py",
   "mimetype": "text/x-python",
   "name": "python",
   "nbconvert_exporter": "python",
   "pygments_lexer": "ipython3",
   "version": "3.8.19"
  }
 },
 "nbformat": 4,
 "nbformat_minor": 2
}
