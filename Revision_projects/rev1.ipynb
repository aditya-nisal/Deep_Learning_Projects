{
 "cells": [
  {
   "cell_type": "code",
   "execution_count": 9,
   "metadata": {},
   "outputs": [],
   "source": [
    "import torch\n",
    "import torch.nn as nn\n",
    "import torch.optim as optim\n",
    "import torchvision\n",
    "import torchvision.transforms as transforms\n",
    "import torch.nn.functional as F"
   ]
  },
  {
   "cell_type": "code",
   "execution_count": 10,
   "metadata": {},
   "outputs": [
    {
     "name": "stdout",
     "output_type": "stream",
     "text": [
      "cuda:0\n"
     ]
    }
   ],
   "source": [
    "device = torch.device(\"cuda:0\" if torch.cuda.is_available() else \"cpu\")\n",
    "print(device)"
   ]
  },
  {
   "cell_type": "markdown",
   "metadata": {},
   "source": [
    "### Transform data"
   ]
  },
  {
   "cell_type": "code",
   "execution_count": 11,
   "metadata": {},
   "outputs": [],
   "source": [
    "transform = transforms.Compose([transforms.RandomHorizontalFlip(),\n",
    "                               transforms.RandomCrop(32, padding=1),\n",
    "                               transforms.ToTensor(),\n",
    "                               transforms.Normalize((0.5, 0.5, 0.5), (0.5, 0.5, 0.5))])"
   ]
  },
  {
   "cell_type": "markdown",
   "metadata": {},
   "source": [
    "### Loading dataset and dataloader for training and testing"
   ]
  },
  {
   "cell_type": "code",
   "execution_count": 12,
   "metadata": {},
   "outputs": [
    {
     "name": "stdout",
     "output_type": "stream",
     "text": [
      "Files already downloaded and verified\n",
      "Files already downloaded and verified\n"
     ]
    }
   ],
   "source": [
    "import torch.utils\n",
    "import torch.utils.data\n",
    "\n",
    "\n",
    "trainset = torchvision.datasets.CIFAR10(root=\"/home/aditya/Deep_Learning_Projects/Revision_projects\", train=True, download=True, transform=transform)\n",
    "trainloader = torch.utils.data.DataLoader(dataset = trainset, shuffle=True, batch_size=100, num_workers=2)\n",
    "testset = torchvision.datasets.CIFAR10(root=\"/home/aditya/Deep_Learning_Projects/Revision_projects\", train=False, download=True, transform=transform)\n",
    "testloader = torch.utils.data.DataLoader(dataset = testset, shuffle=False, batch_size=100, num_workers=2)"
   ]
  },
  {
   "cell_type": "markdown",
   "metadata": {},
   "source": [
    "### Visualization"
   ]
  },
  {
   "cell_type": "code",
   "execution_count": 13,
   "metadata": {},
   "outputs": [
    {
     "data": {
      "image/png": "[encoded data removed]",
      "text/plain": [
       "<Figure size 640x480 with 1 Axes>"
      ]
     },
     "metadata": {},
     "output_type": "display_data"
    },
    {
     "name": "stdout",
     "output_type": "stream",
     "text": [
      "truck deer dog bird\n"
     ]
    }
   ],
   "source": [
    "import matplotlib.pyplot as plt\n",
    "import numpy as np\n",
    "classes = ('plane', 'car', 'bird', 'cat', 'deer', 'dog', 'frog', 'horse', 'ship', 'truck')\n",
    "def imshow(img):\n",
    "    img = img / 2 + 0.5\n",
    "    npimg = img.numpy()\n",
    "    plt.imshow(np.transpose(npimg, (1, 2, 0)))\n",
    "    plt.show()\n",
    "\n",
    "detaiter = iter(trainloader)\n",
    "images, labels = detaiter.next()\n",
    "\n",
    "imshow(torchvision.utils.make_grid(images[:4]))\n",
    "print(' '.join(f'{classes[labels[j]]}' for j in range(4)))"
   ]
  },
  {
   "cell_type": "markdown",
   "metadata": {},
   "source": [
    "### Architecture"
   ]
  },
  {
   "cell_type": "code",
   "execution_count": 14,
   "metadata": {},
   "outputs": [],
   "source": [
    "class Net(nn.Module):\n",
    "    def __init__(self):\n",
    "        super(Net, self).__init__()\n",
    "        self.conv1 = nn.Conv2d(in_channels = 3, out_channels = 32, kernel_size= 3, padding=1)\n",
    "        self.conv2 = nn.Conv2d(in_channels = 32, out_channels = 64, kernel_size= 3, padding=1)\n",
    "        self.conv3 = nn.Conv2d(in_channels = 64, out_channels = 128, kernel_size= 3, padding=1)\n",
    "        self.pool = nn.MaxPool2d(kernel_size= 2, stride = 2)\n",
    "        self.fc1 = nn.Linear(in_features=128*4*4, out_features=512)\n",
    "        self.fc2 = nn.Linear(in_features=512,out_features=10)\n",
    "        self.dropout = nn.Dropout(p=0.5)\n",
    "\n",
    "    def forward(self, x):\n",
    "        x = self.pool(F.relu(self.conv1(x)))\n",
    "        x = self.pool(F.relu(self.conv2(x)))\n",
    "        x = self.pool(F.relu(self.conv3(x)))\n",
    "        x = x.view(-1, 128*4*4)\n",
    "        x = F.relu(self.fc1(x))\n",
    "        x = self.dropout(x)\n",
    "        x = F.relu(self.fc2(x))\n",
    "\n",
    "        return x"
   ]
  },
  {
   "cell_type": "markdown",
   "metadata": {},
   "source": [
    "### Setting hyperparameters"
   ]
  },
  {
   "cell_type": "code",
   "execution_count": 15,
   "metadata": {},
   "outputs": [],
   "source": [
    "from torch.utils.tensorboard import SummaryWriter\n",
    "import torch.optim as optim\n",
    "net = Net().to(device)\n",
    "criterion = nn.CrossEntropyLoss()\n",
    "optimizer = optim.SGD(net.parameters(), lr=0.001, momentum=0.9)\n",
    "writer = SummaryWriter()\n",
    "scheduler = optim.lr_scheduler.StepLR(optimizer, step_size=10, gamma = 0.1)"
   ]
  },
  {
   "cell_type": "markdown",
   "metadata": {},
   "source": [
    "### Training"
   ]
  },
  {
   "cell_type": "code",
   "execution_count": 16,
   "metadata": {},
   "outputs": [],
   "source": [
    "def validate_model(net, testloader, criterion):\n",
    "    net.eval()\n",
    "    validation_loss = 0.0\n",
    "    with torch.no_grad():\n",
    "        for data in testloader:\n",
    "            images, labels = data\n",
    "            images, labels = images.to(device), labels.to(device)\n",
    "            outputs = net(images)\n",
    "            loss = criterion(outputs, labels)\n",
    "            validation_loss += loss.item()\n",
    "        net.train()\n",
    "        return validation_loss / len(testloader)"
   ]
  },
  {
   "cell_type": "code",
   "execution_count": 20,
   "metadata": {},
   "outputs": [],
   "source": [
    "def train_model(net, trainloader, criterion, optimizer, n_epoch = 10, patience = 2):\n",
    "    best_loss = float('inf')\n",
    "    patience_counter = 0\n",
    "\n",
    "    for epoch in range(n_epoch):\n",
    "        running_loss = 0.0\n",
    "        for i, data in enumerate(trainloader):\n",
    "            inputs, labels = data\n",
    "            inputs, labels = inputs.to(device), labels.to(device)\n",
    "            optimizer.zero_grad()\n",
    "            outputs = net(inputs)\n",
    "            loss = criterion(outputs, labels)\n",
    "            loss.backward()\n",
    "            optimizer.step()\n",
    "            running_loss+=loss.item()\n",
    "            if i%100==00:\n",
    "                print(f'[{epoch + 1}, {i + 1}] loss: {running_loss / 100:.3f}')\n",
    "                writer.add_scalar('training loss', running_loss/100, epoch*len(trainloader) + i)\n",
    "                running_loss = 0\n",
    "            \n",
    "        validation_loss = validate_model(net, testloader, criterion)\n",
    "        writer.add_scalar('validation', validation_loss/100, epoch*len(trainloader) + i)\n",
    "        if validation_loss < best_loss:\n",
    "            best_loss = validation_loss\n",
    "            patience_counter = 0\n",
    "            torch.save(net.state_dict(), 'Best_model.pth')\n",
    "        else:\n",
    "            patience_counter +=1\n",
    "\n",
    "        if patience_counter >= patience:\n",
    "            print(\"Early Stopping\")\n",
    "            break\n",
    "        # scheduler.step()\n",
    "    print(\"Finished training\")\n",
    "    writer.close()\n"
   ]
  },
  {
   "cell_type": "code",
   "execution_count": 21,
   "metadata": {},
   "outputs": [
    {
     "name": "stdout",
     "output_type": "stream",
     "text": [
      "[1, 1] loss: 0.015\n",
      "[1, 101] loss: 1.315\n",
      "[1, 201] loss: 1.333\n",
      "[1, 301] loss: 1.333\n",
      "[1, 401] loss: 1.339\n",
      "[2, 1] loss: 0.014\n",
      "[2, 101] loss: 1.327\n",
      "[2, 201] loss: 1.321\n",
      "[2, 301] loss: 1.329\n",
      "[2, 401] loss: 1.336\n",
      "[3, 1] loss: 0.012\n",
      "[3, 101] loss: 1.328\n",
      "[3, 201] loss: 1.327\n",
      "[3, 301] loss: 1.335\n",
      "[3, 401] loss: 1.343\n",
      "[4, 1] loss: 0.014\n",
      "[4, 101] loss: 1.339\n",
      "[4, 201] loss: 1.332\n",
      "[4, 301] loss: 1.330\n",
      "[4, 401] loss: 1.329\n",
      "[5, 1] loss: 0.011\n",
      "[5, 101] loss: 1.342\n",
      "[5, 201] loss: 1.325\n",
      "[5, 301] loss: 1.325\n",
      "[5, 401] loss: 1.319\n",
      "Early Stopping\n",
      "Finished training\n"
     ]
    }
   ],
   "source": [
    "train_model(net, trainloader, criterion, optimizer, n_epoch = 50)"
   ]
  },
  {
   "cell_type": "markdown",
   "metadata": {},
   "source": [
    "### Testing"
   ]
  },
  {
   "cell_type": "code",
   "execution_count": 19,
   "metadata": {},
   "outputs": [
    {
     "name": "stdout",
     "output_type": "stream",
     "text": [
      "Accuracy of the network on the 1000 test images: 52.04 %\n"
     ]
    }
   ],
   "source": [
    "net.load_state_dict(torch.load('Best_model.pth'))\n",
    "correct = 0\n",
    "total = 0\n",
    "with torch.no_grad():\n",
    "    for data in testloader:\n",
    "        images, labels = data\n",
    "        images, labels = images.to(device), labels.to(device)\n",
    "        # print(labels.device)\n",
    "        # print(images.device)\n",
    "        outputs = net(images)\n",
    "        _, predicted = torch.max(outputs, 1)\n",
    "        total += labels.size(0)\n",
    "        correct += (predicted == labels).sum().item()\n",
    "\n",
    "print(f'Accuracy of the network on the 1000 test images: {100*correct / total} %')"
   ]
  }
 ],
 "metadata": {
  "kernelspec": {
   "display_name": "base",
   "language": "python",
   "name": "python3"
  },
  "language_info": {
   "codemirror_mode": {
    "name": "ipython",
    "version": 3
   },
   "file_extension": ".py",
   "mimetype": "text/x-python",
   "name": "python",
   "nbconvert_exporter": "python",
   "pygments_lexer": "ipython3",
   "version": "3.8.-1"
  }
 },
 "nbformat": 4,
 "nbformat_minor": 2
}
