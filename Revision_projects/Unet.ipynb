{
  "cells": [
    {
      "cell_type": "code",
      "execution_count": 1,
      "metadata": {
        "id": "XS3FIrBuRAdO"
      },
      "outputs": [
        {
          "name": "stderr",
          "output_type": "stream",
          "text": [
            "/home/aditya/miniconda3/envs/trtpose/lib/python3.8/site-packages/torchvision/io/image.py:13: UserWarning: Failed to load image Python extension: '/home/aditya/miniconda3/envs/trtpose/lib/python3.8/site-packages/torchvision/image.so: undefined symbol: _ZNK3c107SymBool10guard_boolEPKcl'If you don't plan on using image functionality from `torchvision.io`, you can ignore this warning. Otherwise, there might be something wrong with your environment. Did you have `libjpeg` or `libpng` installed before building `torchvision` from source?\n",
            "  warn(\n"
          ]
        }
      ],
      "source": [
        "import torch\n",
        "import torch.nn as nn\n",
        "import torch.optim as optim\n",
        "import torchvision\n",
        "import torchvision.transforms as transforms\n",
        "import torch.nn.functional as F"
      ]
    },
    {
      "cell_type": "code",
      "execution_count": 2,
      "metadata": {
        "colab": {
          "base_uri": "https://localhost:8080/"
        },
        "id": "qWdOjtiMRAdS",
        "outputId": "4cab7433-61fe-483e-ba6c-801b7a9e429e"
      },
      "outputs": [
        {
          "name": "stdout",
          "output_type": "stream",
          "text": [
            "cuda:0\n"
          ]
        }
      ],
      "source": [
        "device = torch.device(\"cuda:0\" if torch.cuda.is_available() else \"cpu\")\n",
        "print(device)"
      ]
    },
    {
      "cell_type": "code",
      "execution_count": 3,
      "metadata": {
        "id": "7YxaJuY5RAdT"
      },
      "outputs": [],
      "source": [
        "input_transform = transforms.Compose([\n",
        "    transforms.Resize((256, 256)),\n",
        "    transforms.ToTensor(),\n",
        "    transforms.Normalize(mean=[0.485, 0.456, 0.406], std=[0.229, 0.224, 0.225])\n",
        "])\n",
        "\n",
        "target_transform = transforms.Compose([\n",
        "    transforms.Resize((256, 256)),\n",
        "    transforms.ToTensor()\n",
        "])\n"
      ]
    },
    {
      "cell_type": "code",
      "execution_count": 4,
      "metadata": {
        "colab": {
          "base_uri": "https://localhost:8080/"
        },
        "id": "cp5Cb-T0RAdU",
        "outputId": "3869fec6-ff00-4baa-ab08-a0f05052d439"
      },
      "outputs": [
        {
          "name": "stdout",
          "output_type": "stream",
          "text": [
            "Using downloaded and verified file: /home/aditya/Deep_Learning_Projects/Revision_projects/VOCtrainval_11-May-2012.tar\n",
            "Extracting /home/aditya/Deep_Learning_Projects/Revision_projects/VOCtrainval_11-May-2012.tar to /home/aditya/Deep_Learning_Projects/Revision_projects\n",
            "Using downloaded and verified file: /home/aditya/Deep_Learning_Projects/Revision_projects/VOCtrainval_11-May-2012.tar\n",
            "Extracting /home/aditya/Deep_Learning_Projects/Revision_projects/VOCtrainval_11-May-2012.tar to /home/aditya/Deep_Learning_Projects/Revision_projects\n"
          ]
        }
      ],
      "source": [
        "from torchvision.datasets import VOCSegmentation\n",
        "from torch.utils.data import DataLoader\n",
        "train_dataset = VOCSegmentation(root=\"/home/aditya/Deep_Learning_Projects/Revision_projects\", year = \"2012\", image_set = 'train', download=True, transform=input_transform, target_transform=target_transform)\n",
        "\n",
        "val_dataset = VOCSegmentation(root=\"/home/aditya/Deep_Learning_Projects/Revision_projects\", year = \"2012\", image_set = 'val', download=True, transform=input_transform, target_transform=target_transform)\n",
        "\n",
        "# Create data loaders\n",
        "train_loader = DataLoader(train_dataset, batch_size=8, shuffle=True, num_workers=4)\n",
        "val_loader = DataLoader(val_dataset, batch_size=8, shuffle=False, num_workers=4)"
      ]
    },
    {
      "cell_type": "code",
      "execution_count": 5,
      "metadata": {
        "id": "np2VTnEKVOVf"
      },
      "outputs": [],
      "source": [
        "# Create data loaders\n",
        "train_loader = DataLoader(train_dataset, batch_size=4, shuffle=True, num_workers=4)\n",
        "val_loader = DataLoader(val_dataset, batch_size=4, shuffle=False, num_workers=4)"
      ]
    },
    {
      "cell_type": "code",
      "execution_count": 6,
      "metadata": {
        "id": "oFb-zrQDRAdV"
      },
      "outputs": [],
      "source": [
        "# dataiter = iter(train_loader)\n",
        "# images, labels = dataiter.next()\n",
        "# print(images.shape, labels.shape)"
      ]
    },
    {
      "cell_type": "code",
      "execution_count": 7,
      "metadata": {
        "id": "XfHo0wGNRAdW"
      },
      "outputs": [],
      "source": [
        "def EncoderBlock(input_channel, output_channel):\n",
        "    output = nn.Sequential(nn.Conv2d(in_channels=input_channel, out_channels=output_channel, padding=1, stride=1, kernel_size=3),\n",
        "                             nn.BatchNorm2d(output_channel),\n",
        "                             nn.LeakyReLU(),\n",
        "                            nn.Conv2d(in_channels=output_channel, out_channels=output_channel, padding=1, stride=1, kernel_size=3),\n",
        "                             nn.BatchNorm2d(output_channel),\n",
        "                             nn.LeakyReLU()\n",
        "                             )\n",
        "\n",
        "    return output"
      ]
    },
    {
      "cell_type": "code",
      "execution_count": 8,
      "metadata": {
        "id": "UJn9nhkzRAdX"
      },
      "outputs": [],
      "source": [
        "def Bridge(input_channel, output_channel):\n",
        "    output = nn.Sequential(nn.Conv2d(in_channels=input_channel, out_channels=output_channel, padding=1, stride=1, kernel_size=3),\n",
        "                             nn.BatchNorm2d(output_channel),\n",
        "                             nn.LeakyReLU(),\n",
        "                            nn.Conv2d(in_channels=output_channel, out_channels=output_channel, padding=1, stride=1, kernel_size=3),\n",
        "                             nn.BatchNorm2d(output_channel),\n",
        "                             nn.LeakyReLU())\n",
        "    return output"
      ]
    },
    {
      "cell_type": "code",
      "execution_count": 9,
      "metadata": {
        "id": "fA12zkkTRAdX"
      },
      "outputs": [],
      "source": [
        "def Upsample(input_channel, output_channel):\n",
        "    output = nn.Sequential(nn.ConvTranspose2d(in_channels=input_channel, out_channels=output_channel, stride=2, kernel_size=3, output_padding=1, padding=1),\n",
        "                  nn.BatchNorm2d(output_channel),\n",
        "                  nn.LeakyReLU())\n",
        "    return output"
      ]
    },
    {
      "cell_type": "code",
      "execution_count": 10,
      "metadata": {
        "id": "7cbbS2AsRAdY"
      },
      "outputs": [],
      "source": [
        "def DecoderBlock(input_channels, output_channels):\n",
        "    output = nn.Sequential(nn.Conv2d(in_channels=input_channels, out_channels=output_channels, stride = 1, kernel_size=3, padding=1),\n",
        "                           nn.BatchNorm2d(output_channels),\n",
        "                           nn.LeakyReLU(),\n",
        "                           nn.Conv2d(in_channels=output_channels, out_channels=output_channels, stride = 1, kernel_size=3, padding=1),\n",
        "                           nn.BatchNorm2d(output_channels),\n",
        "                           nn.LeakyReLU())\n",
        "    return output"
      ]
    },
    {
      "cell_type": "code",
      "execution_count": 11,
      "metadata": {
        "id": "IKaIh1-dRAdZ"
      },
      "outputs": [],
      "source": [
        "def Out(input_channels, output_channels):\n",
        "    output = nn.Sequential(nn.Conv2d(in_channels=input_channels, out_channels=output_channels, stride=1, kernel_size=3, padding=1),\n",
        "                           nn.Tanh())\n",
        "    return output"
      ]
    },
    {
      "cell_type": "code",
      "execution_count": 12,
      "metadata": {
        "id": "YSiwRFhmRAda"
      },
      "outputs": [],
      "source": [
        "class UnetModel(nn.Module):\n",
        "\n",
        "    def __init__(self, input_dim, output_dim, num_filters):\n",
        "        super(UnetModel, self).__init__()\n",
        "        self.input_dim = input_dim\n",
        "        self.output_dim = output_dim\n",
        "        self.num_filters = num_filters\n",
        "\n",
        "        self.enc_1 = EncoderBlock(self.input_dim, self.num_filters*1)\n",
        "        self.pool_1 = nn.MaxPool2d(kernel_size=2, padding=0, stride=2)\n",
        "        self.enc_2 = EncoderBlock(self.num_filters*1, self.num_filters*2)\n",
        "        self.pool_2 = nn.MaxPool2d(kernel_size=2, padding=0, stride=2)\n",
        "        self.enc_3 = EncoderBlock(self.num_filters*2, self.num_filters*4)\n",
        "        self.pool_3 = nn.MaxPool2d(kernel_size=2, padding=0, stride=2)\n",
        "        self.enc_4 = EncoderBlock(self.num_filters*4, self.num_filters*8)\n",
        "        self.pool_4 = nn.MaxPool2d(kernel_size=2, padding=0, stride=2)\n",
        "\n",
        "        self.bridge = Bridge(self.num_filters*8, self.num_filters*16)\n",
        "\n",
        "        self.up_1 = Upsample(self.num_filters*16, self.num_filters*8)\n",
        "        self.dec_1 = DecoderBlock(self.num_filters*16, self.num_filters*8)\n",
        "        self.up_2 = Upsample(self.num_filters*8, self.num_filters*4)\n",
        "        self.dec_2 = DecoderBlock(self.num_filters*8, self.num_filters*4)\n",
        "        self.up_3 = Upsample(self.num_filters*4, self.num_filters*2)\n",
        "        self.dec_3 = DecoderBlock(self.num_filters*4, self.num_filters*2)\n",
        "        self.up_4 = Upsample(self.num_filters*2, self.num_filters*1)\n",
        "        self.dec_4 = DecoderBlock(self.num_filters*2, self.num_filters*1)\n",
        "\n",
        "        self.out = Out(self.num_filters*1, output_dim)\n",
        "\n",
        "    def forward(self, input):\n",
        "        enc1 = self.enc_1(input)\n",
        "        enc_1 = self.pool_1(enc1)\n",
        "        enc2 = self.enc_2(enc_1)\n",
        "        enc_2 = self.pool_2(enc2)\n",
        "        enc3 = self.enc_3(enc_2)\n",
        "        enc_3 = self.pool_3(enc3)\n",
        "        enc4 = self.enc_4(enc_3)\n",
        "        enc_4 = self.pool_4(enc4)\n",
        "        # print(f\"enc_4: {enc_4.shape}\")\n",
        "        bridge = self.bridge(enc_4)\n",
        "\n",
        "        up_1 = self.up_1(bridge)\n",
        "        # print(f\"up_1: {up_1.shape}\")\n",
        "        up_1 = torch.cat([up_1, enc4], dim=1)\n",
        "        # print(f\"up_1: {up_1.shape}, enc_4: {enc4.shape}\")\n",
        "        dec_1 = self.dec_1(up_1)\n",
        "        up_2 = self.up_2(dec_1)\n",
        "        up_2 = torch.cat([up_2, enc3], dim=1)\n",
        "        # print(f\"up_2: {up_2.shape}, enc_3: {enc3.shape}\")\n",
        "        dec_2 = self.dec_2(up_2)\n",
        "        up_3 = self.up_3(dec_2)\n",
        "        up_3 = torch.cat([up_3, enc2], dim=1)\n",
        "        # print(f\"up_3: {up_3.shape}, enc_2: {enc2.shape}\")\n",
        "        dec_3 = self.dec_3(up_3)\n",
        "        up_4 = self.up_4(dec_3)\n",
        "        up_4 = torch.cat([up_4, enc1], dim=1)\n",
        "        # print(f\"up_4: {up_4.shape}, enc_1: {enc1.shape}\")\n",
        "        dec_4 = self.dec_4(up_4)\n",
        "\n",
        "        output = self.out(dec_4)\n",
        "\n",
        "        return output\n",
        "\n"
      ]
    },
    {
      "cell_type": "code",
      "execution_count": 13,
      "metadata": {
        "id": "0bu3aSEeRAdb"
      },
      "outputs": [],
      "source": [
        "from torch.utils.tensorboard import SummaryWriter\n",
        "import torch.optim as optim\n",
        "unet = UnetModel(3, 20, 64).to(device)\n",
        "criterion = nn.CrossEntropyLoss()\n",
        "optimizer = optim.Adam(unet.parameters(), lr=0.0002)\n",
        "writer = SummaryWriter()\n",
        "scheduler = optim.lr_scheduler.StepLR(optimizer, step_size=2, gamma = 0.1)"
      ]
    },
    {
      "cell_type": "code",
      "execution_count": 14,
      "metadata": {
        "id": "ZPfuTEIpRAdb"
      },
      "outputs": [],
      "source": [
        "def ValidateModel(unet, val_loader, criterion):\n",
        "    validation_loss = 0.0\n",
        "    for data in val_loader:\n",
        "        images, masks = data\n",
        "        images, masks = images.to(device), masks.to(device).squeeze(1).long()\n",
        "        output = unet(images)\n",
        "        loss = criterion(output, masks)\n",
        "        validation_loss+=loss.item()\n",
        "    unet.train()\n",
        "    return validation_loss/len(val_loader)\n"
      ]
    },
    {
      "cell_type": "code",
      "execution_count": 15,
      "metadata": {
        "id": "AWoXRVDWRAdc"
      },
      "outputs": [],
      "source": [
        "def TrainModel(unet, criterion, optimizer, n_epoch=50, patience=3):\n",
        "    best_loss = float(\"inf\")\n",
        "    patience_counter = 0\n",
        "\n",
        "    for epoch in range(n_epoch):\n",
        "        running_loss = 0.0\n",
        "        for i, data in enumerate(train_loader):\n",
        "            images, masks = data\n",
        "            images, masks = images.to(device), masks.to(device).squeeze(1).long()\n",
        "            # print(f\"masks.shape: {masks.shape}\")\n",
        "            optimizer.zero_grad()\n",
        "            output = unet(images)\n",
        "            # print(f\"output.shape: {output.shape}\")\n",
        "            loss = criterion(output, masks)\n",
        "            loss.backward()\n",
        "            optimizer.step()\n",
        "            running_loss+=loss.item()\n",
        "            if i % 100 == 0:\n",
        "                print(f'[{epoch + 1}, {i + 1}] loss: {running_loss / 100:.3f}')\n",
        "                writer.add_scalar('training loss', running_loss / 100, epoch * len(train_loader) + i)\n",
        "                running_loss = 0\n",
        "\n",
        "        validation_loss = ValidateModel(unet, val_loader, criterion)\n",
        "        writer.add_scalar('validation', validation_loss/100, epoch*len(train_loader) + i)\n",
        "        if(validation_loss>best_loss):\n",
        "            best_loss = validation_loss\n",
        "            patience_counter=0\n",
        "            torch.save(unet.state_dict(), '/home/aditya/Deep_Learning_Projects/Revision_projects/Best_Model.pth')\n",
        "        else:\n",
        "            patience_counter+=1\n",
        "\n",
        "        if (patience_counter>=patience):\n",
        "            print(\"Early Stopping\")\n",
        "            break\n",
        "        scheduler.step()\n",
        "    print(\"Finished training\")\n",
        "    writer.close()"
      ]
    },
    {
      "cell_type": "code",
      "execution_count": 16,
      "metadata": {
        "colab": {
          "base_uri": "https://localhost:8080/"
        },
        "id": "1vUkcGg0RAdc",
        "outputId": "ca4273c0-8906-46d2-c7c3-5e12f22641ee"
      },
      "outputs": [
        {
          "name": "stdout",
          "output_type": "stream",
          "text": [
            "[1, 1] loss: 0.029\n"
          ]
        }
      ],
      "source": [
        "TrainModel(unet, criterion, optimizer, 5)"
      ]
    },
    {
      "cell_type": "code",
      "execution_count": null,
      "metadata": {
        "id": "HaJgRFroRAdd"
      },
      "outputs": [],
      "source": [
        "torch.cuda.empty_cache()"
      ]
    },
    {
      "cell_type": "code",
      "execution_count": null,
      "metadata": {
        "id": "uH84ULN5TTjl"
      },
      "outputs": [],
      "source": [
        "unet.load_state_dict(torch.load('/home/aditya/Deep_Learning_Projects/Revision_projects/Best_Model.pth'))\n",
        "correct = 0\n",
        "total = 0\n",
        "with torch.no_grad():\n",
        "  for data in val_loader:\n",
        "    images, labels = data\n",
        "    images, labels = images.to(device), labels.to(device).squeeze(1).long()\n",
        "    outputs = unet(images)\n",
        "    _, predicted = torch.max(outputs, 1)\n",
        "    total += labels.size(0)\n",
        "    correct += (predicted == labels).sum().item()\n",
        "print('Accuracy of the network on the 10000 test images: %d %%' % (\n",
        "    100 * correct / total))"
      ]
    },
    {
      "cell_type": "code",
      "execution_count": null,
      "metadata": {
        "id": "EiOWFtixesp2"
      },
      "outputs": [],
      "source": []
    },
    {
      "cell_type": "code",
      "execution_count": null,
      "metadata": {
        "id": "8A-sbaS2eJOU"
      },
      "outputs": [],
      "source": []
    }
  ],
  "metadata": {
    "accelerator": "GPU",
    "colab": {
      "gpuType": "T4",
      "provenance": []
    },
    "kernelspec": {
      "display_name": "Python 3",
      "name": "python3"
    },
    "language_info": {
      "codemirror_mode": {
        "name": "ipython",
        "version": 3
      },
      "file_extension": ".py",
      "mimetype": "text/x-python",
      "name": "python",
      "nbconvert_exporter": "python",
      "pygments_lexer": "ipython3",
      "version": "3.8.19"
    }
  },
  "nbformat": 4,
  "nbformat_minor": 0
}
