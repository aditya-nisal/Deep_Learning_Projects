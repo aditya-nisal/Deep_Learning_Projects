{
 "cells": [
  {
   "cell_type": "code",
   "execution_count": 5,
   "metadata": {},
   "outputs": [],
   "source": [
    "import numpy as np\n",
    "import matplotlib.pyplot as plt\n",
    "import tensorflow as tf\n",
    "import keras\n",
    "from keras.callbacks import ModelCheckpoint, TensorBoard\n",
    "import datetime"
   ]
  },
  {
   "cell_type": "code",
   "execution_count": 2,
   "metadata": {},
   "outputs": [],
   "source": [
    "(X_train, Y_train), (x_test, y_test) = tf.keras.datasets.fashion_mnist.load_data()"
   ]
  },
  {
   "cell_type": "code",
   "execution_count": 4,
   "metadata": {},
   "outputs": [],
   "source": [
    "X_train = X_train.astype('float32') / 255\n",
    "x_test = x_test.astype('float32') / 255\n",
    "#print(type(X_train))"
   ]
  },
  {
   "cell_type": "code",
   "execution_count": 5,
   "metadata": {},
   "outputs": [],
   "source": [
    "x_train=X_train[5000:]\n",
    "x_valid=X_train[:5000]\n",
    "y_train=Y_train[5000:]\n",
    "y_valid=Y_train[:5000]"
   ]
  },
  {
   "cell_type": "code",
   "execution_count": 6,
   "metadata": {},
   "outputs": [],
   "source": [
    "w, h = 28, 28\n",
    "x_train = x_train.reshape(x_train.shape[0], w, h, 1)\n",
    "x_valid = x_valid.reshape(x_valid.shape[0], w, h, 1)\n",
    "x_test = x_test.reshape(x_test.shape[0], w, h, 1)\n",
    "\n",
    "y_train = tf.keras.utils.to_categorical(y_train, 10)\n",
    "y_valid = tf.keras.utils.to_categorical(y_valid, 10)\n",
    "y_test = tf.keras.utils.to_categorical(y_test, 10)"
   ]
  },
  {
   "cell_type": "code",
   "execution_count": 7,
   "metadata": {},
   "outputs": [
    {
     "name": "stdout",
     "output_type": "stream",
     "text": [
      "Model: \"sequential\"\n",
      "_________________________________________________________________\n",
      " Layer (type)                Output Shape              Param #   \n",
      "=================================================================\n",
      " conv2d (Conv2D)             (None, 28, 28, 64)        320       \n",
      "                                                                 \n",
      " max_pooling2d (MaxPooling2D  (None, 14, 14, 64)       0         \n",
      " )                                                               \n",
      "                                                                 \n",
      " dropout (Dropout)           (None, 14, 14, 64)        0         \n",
      "                                                                 \n",
      " conv2d_1 (Conv2D)           (None, 14, 14, 32)        8224      \n",
      "                                                                 \n",
      " max_pooling2d_1 (MaxPooling  (None, 7, 7, 32)         0         \n",
      " 2D)                                                             \n",
      "                                                                 \n",
      " dropout_1 (Dropout)         (None, 7, 7, 32)          0         \n",
      "                                                                 \n",
      " flatten (Flatten)           (None, 1568)              0         \n",
      "                                                                 \n",
      " dense (Dense)               (None, 256)               401664    \n",
      "                                                                 \n",
      " dropout_2 (Dropout)         (None, 256)               0         \n",
      "                                                                 \n",
      " dense_1 (Dense)             (None, 10)                2570      \n",
      "                                                                 \n",
      "=================================================================\n",
      "Total params: 412,778\n",
      "Trainable params: 412,778\n",
      "Non-trainable params: 0\n",
      "_________________________________________________________________\n"
     ]
    }
   ],
   "source": [
    "model = tf.keras.Sequential()\n",
    "\n",
    "# Must define the input shape in the first layer of the neural network\n",
    "model.add(tf.keras.layers.Conv2D(filters=64, kernel_size=2,\n",
    "          padding='same', activation='relu', input_shape=(28, 28, 1)))\n",
    "model.add(tf.keras.layers.MaxPooling2D(pool_size=2))\n",
    "model.add(tf.keras.layers.Dropout(0.3))\n",
    "\n",
    "model.add(tf.keras.layers.Conv2D(\n",
    "    filters=32, kernel_size=2, padding='same', activation='relu'))\n",
    "model.add(tf.keras.layers.MaxPooling2D(pool_size=2))\n",
    "model.add(tf.keras.layers.Dropout(0.3))\n",
    "\n",
    "model.add(tf.keras.layers.Flatten())\n",
    "model.add(tf.keras.layers.Dense(256, activation='relu'))\n",
    "model.add(tf.keras.layers.Dropout(0.5))\n",
    "model.add(tf.keras.layers.Dense(10, activation='softmax'))\n",
    "\n",
    "# Take a look at the model summary\n",
    "model.summary()"
   ]
  },
  {
   "cell_type": "code",
   "execution_count": 8,
   "metadata": {},
   "outputs": [],
   "source": [
    "model.compile(loss='categorical_crossentropy',\n",
    "              optimizer='adam',\n",
    "              metrics=['accuracy'])"
   ]
  },
  {
   "cell_type": "code",
   "execution_count": 9,
   "metadata": {},
   "outputs": [
    {
     "name": "stdout",
     "output_type": "stream",
     "text": [
      "Epoch 1/10\n",
      "859/860 [============================>.] - ETA: 0s - loss: 0.6101 - accuracy: 0.7749\n",
      "Epoch 1: val_loss improved from inf to 0.39379, saving model to model.weights.best.hdf5\n",
      "860/860 [==============================] - 51s 58ms/step - loss: 0.6100 - accuracy: 0.7749 - val_loss: 0.3938 - val_accuracy: 0.8572\n",
      "Epoch 2/10\n",
      "859/860 [============================>.] - ETA: 0s - loss: 0.4282 - accuracy: 0.8456\n",
      "Epoch 2: val_loss improved from 0.39379 to 0.32585, saving model to model.weights.best.hdf5\n",
      "860/860 [==============================] - 48s 56ms/step - loss: 0.4282 - accuracy: 0.8456 - val_loss: 0.3259 - val_accuracy: 0.8888\n",
      "Epoch 3/10\n",
      "859/860 [============================>.] - ETA: 0s - loss: 0.3810 - accuracy: 0.8605\n",
      "Epoch 3: val_loss improved from 0.32585 to 0.30976, saving model to model.weights.best.hdf5\n",
      "860/860 [==============================] - 46s 53ms/step - loss: 0.3811 - accuracy: 0.8604 - val_loss: 0.3098 - val_accuracy: 0.8862\n",
      "Epoch 4/10\n",
      "859/860 [============================>.] - ETA: 0s - loss: 0.3547 - accuracy: 0.8685\n",
      "Epoch 4: val_loss improved from 0.30976 to 0.28613, saving model to model.weights.best.hdf5\n",
      "860/860 [==============================] - 47s 55ms/step - loss: 0.3548 - accuracy: 0.8685 - val_loss: 0.2861 - val_accuracy: 0.8944\n",
      "Epoch 5/10\n",
      "859/860 [============================>.] - ETA: 0s - loss: 0.3342 - accuracy: 0.8786\n",
      "Epoch 5: val_loss improved from 0.28613 to 0.26990, saving model to model.weights.best.hdf5\n",
      "860/860 [==============================] - 47s 54ms/step - loss: 0.3342 - accuracy: 0.8786 - val_loss: 0.2699 - val_accuracy: 0.8996\n",
      "Epoch 6/10\n",
      "859/860 [============================>.] - ETA: 0s - loss: 0.3149 - accuracy: 0.8833\n",
      "Epoch 6: val_loss improved from 0.26990 to 0.26065, saving model to model.weights.best.hdf5\n",
      "860/860 [==============================] - 42s 49ms/step - loss: 0.3148 - accuracy: 0.8833 - val_loss: 0.2606 - val_accuracy: 0.9028\n",
      "Epoch 7/10\n",
      "859/860 [============================>.] - ETA: 0s - loss: 0.3029 - accuracy: 0.8881\n",
      "Epoch 7: val_loss improved from 0.26065 to 0.24520, saving model to model.weights.best.hdf5\n",
      "860/860 [==============================] - 45s 52ms/step - loss: 0.3029 - accuracy: 0.8881 - val_loss: 0.2452 - val_accuracy: 0.9120\n",
      "Epoch 8/10\n",
      "859/860 [============================>.] - ETA: 0s - loss: 0.2916 - accuracy: 0.8939\n",
      "Epoch 8: val_loss improved from 0.24520 to 0.24388, saving model to model.weights.best.hdf5\n",
      "860/860 [==============================] - 47s 55ms/step - loss: 0.2915 - accuracy: 0.8939 - val_loss: 0.2439 - val_accuracy: 0.9122\n",
      "Epoch 9/10\n",
      "860/860 [==============================] - ETA: 0s - loss: 0.2837 - accuracy: 0.8958\n",
      "Epoch 9: val_loss improved from 0.24388 to 0.23637, saving model to model.weights.best.hdf5\n",
      "860/860 [==============================] - 44s 51ms/step - loss: 0.2837 - accuracy: 0.8958 - val_loss: 0.2364 - val_accuracy: 0.9150\n",
      "Epoch 10/10\n",
      "860/860 [==============================] - ETA: 0s - loss: 0.2733 - accuracy: 0.8989\n",
      "Epoch 10: val_loss did not improve from 0.23637\n",
      "860/860 [==============================] - 44s 51ms/step - loss: 0.2733 - accuracy: 0.8989 - val_loss: 0.2539 - val_accuracy: 0.9050\n"
     ]
    },
    {
     "data": {
      "text/plain": [
       "<keras.callbacks.History at 0x167e2142d40>"
      ]
     },
     "execution_count": 9,
     "metadata": {},
     "output_type": "execute_result"
    }
   ],
   "source": [
    "log_dir = \"logs/fit/\" + datetime.datetime.now().strftime(\"%Y%m%d-%H%M%S\")\n",
    "tensorboard_callback = TensorBoard(log_dir=log_dir, histogram_freq=1)\n",
    "checkpointer = ModelCheckpoint(filepath='model.weights.best.hdf5', verbose=1, save_best_only=True)\n",
    "model.fit(x_train,\n",
    "          y_train,\n",
    "          batch_size=64,\n",
    "          epochs=10,\n",
    "          validation_data=(x_valid, y_valid),\n",
    "          callbacks=[checkpointer,tensorboard_callback])"
   ]
  },
  {
   "cell_type": "code",
   "execution_count": 10,
   "metadata": {},
   "outputs": [],
   "source": [
    "model.load_weights('model.weights.best.hdf5')"
   ]
  },
  {
   "cell_type": "code",
   "execution_count": 11,
   "metadata": {},
   "outputs": [
    {
     "name": "stdout",
     "output_type": "stream",
     "text": [
      "\n",
      " Test accuracy: 0.9071000218391418\n"
     ]
    }
   ],
   "source": [
    "score = model.evaluate(x_test, y_test, verbose=0)\n",
    "\n",
    "# Print test accuracy\n",
    "print('\\n', 'Test accuracy:', score[1])"
   ]
  },
  {
   "cell_type": "code",
   "execution_count": 12,
   "metadata": {},
   "outputs": [
    {
     "name": "stderr",
     "output_type": "stream",
     "text": [
      "UsageError: Line magic function `%tensorboard` not found.\n"
     ]
    }
   ],
   "source": [
    "%tensorboard --logdir logs/fit"
   ]
  },
  {
   "cell_type": "code",
   "execution_count": null,
   "metadata": {},
   "outputs": [],
   "source": [
    "# y_hat = model.predict(x_test)\n",
    "\n",
    "# # Plot a random sample of 10 test images, their predicted labels and ground truth\n",
    "# figure = plt.figure(figsize=(20, 8))\n",
    "# for i, index in enumerate(np.random.choice(x_test.shape[0], size=15, replace=False)):\n",
    "#     ax = figure.add_subplot(3, 5, i + 1, xticks=[], yticks=[])\n",
    "#     # Display each image\n",
    "#     ax.imshow(np.squeeze(x_test[index]))\n",
    "#     predict_index = np.argmax(y_hat[index])\n",
    "#     true_index = np.argmax(y_test[index])\n",
    "#     # Set the title for each image\n",
    "#     ax.set_title(\"{} ({})\".format(fashion_mnist_labels[predict_index],\n",
    "#                                   fashion_mnist_labels[true_index]),\n",
    "#                  color=(\"green\" if predict_index == true_index else \"red\"))"
   ]
  }
 ],
 "metadata": {
  "kernelspec": {
   "display_name": "Python 3",
   "language": "python",
   "name": "python3"
  },
  "language_info": {
   "codemirror_mode": {
    "name": "ipython",
    "version": 3
   },
   "file_extension": ".py",
   "mimetype": "text/x-python",
   "name": "python",
   "nbconvert_exporter": "python",
   "pygments_lexer": "ipython3",
   "version": "3.10.8"
  },
  "orig_nbformat": 4
 },
 "nbformat": 4,
 "nbformat_minor": 2
}
