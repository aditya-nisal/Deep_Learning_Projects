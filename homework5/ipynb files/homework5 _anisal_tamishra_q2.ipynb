{
  "cells": [
    {
      "cell_type": "code",
      "execution_count": 43,
      "metadata": {
        "colab": {
          "base_uri": "https://localhost:8080/"
        },
        "id": "bnTgsxhGjCvG",
        "outputId": "e06e6fce-8082-4686-9349-3575a702867b"
      },
      "outputs": [
        {
          "output_type": "stream",
          "name": "stdout",
          "text": [
            "faces.shape: (7500, 48, 48)\n",
            "ages.shape: (7500,)\n",
            "(5500, 48, 48, 3)\n",
            "(5500,)\n",
            "(500, 48, 48, 3)\n",
            "(500,)\n",
            "(1500, 48, 48, 3)\n",
            "(1500,)\n"
          ]
        }
      ],
      "source": [
        "import tensorflow as tf\n",
        "import numpy as np\n",
        "import matplotlib.pyplot as plt\n",
        "from tensorflow.keras.applications.resnet50 import ResNet50\n",
        "from tensorflow.keras.layers import GlobalAveragePooling2D, Dense, Flatten\n",
        "from tensorflow.keras.models import Model\n",
        "from keras.callbacks import ModelCheckpoint\n",
        "\n",
        "# Load the data into NumPy arrays\n",
        "faces_greyscale = np.load('/content/faces.npy')\n",
        "print(\"faces.shape:\", faces_greyscale.shape)\n",
        "age_labels = np.load('/content/ages.npy')\n",
        "print(\"ages.shape:\", age_labels.shape)\n",
        "# matrix = np.array([faces_greyscale, age_labels])\n",
        "\n",
        "# # Select 80% of numbers randomly using np.random.choice\n",
        "selected_numbers = np.random.choice(faces_greyscale.shape[0], size=int(0.8*(faces_greyscale.shape[0])), replace=False)\n",
        "all_indices = np.arange(faces_greyscale.shape[0])\n",
        "test_indices = np.setdiff1d(all_indices, selected_numbers)\n",
        "\n",
        "faces_greyscale_trainval = faces_greyscale[selected_numbers]\n",
        "age_labels_trainval = age_labels[selected_numbers]\n",
        "# print(faces_greyscale_trainval.shape)\n",
        "# print(age_labels_trainval.shape)\n",
        "faces_rgb_trainval = np.repeat(faces_greyscale_trainval[..., np.newaxis], 3, axis = -1)\n",
        "faces_rgb_trainval = faces_rgb_trainval.astype('float32') / 255.0\n",
        "\n",
        "#Training\n",
        "faces_rgb_train = faces_rgb_trainval[:5500]\n",
        "age_labels_train = age_labels_trainval[:5500]\n",
        "\n",
        "#Validation\n",
        "faces_rgb_val = faces_rgb_trainval[5500:]\n",
        "age_labels_val = age_labels_trainval[5500:]\n",
        "\n",
        "#Test\n",
        "faces_greyscale_test = faces_greyscale[test_indices]\n",
        "age_labels_test = age_labels[test_indices]\n",
        "faces_rgb_test = np.repeat(faces_greyscale_test[..., np.newaxis], 3, axis = -1)\n",
        "faces_rgb_test = faces_rgb_test.astype('float32') / 255.0\n",
        "\n",
        "print(faces_rgb_train.shape)\n",
        "print(age_labels_train.shape)\n",
        "print(faces_rgb_val.shape)\n",
        "print(age_labels_val.shape)\n",
        "print(faces_rgb_test.shape)\n",
        "print(age_labels_test.shape)\n",
        "# Creating a TensorFlow dataset from the NumPy arrays\n",
        "dataset = tf.data.Dataset.from_tensor_slices((faces_rgb_trainval, age_labels_trainval))\n"
      ]
    },
    {
      "cell_type": "code",
      "execution_count": 44,
      "metadata": {
        "colab": {
          "base_uri": "https://localhost:8080/",
          "height": 466
        },
        "id": "tQn_UJLqp1cg",
        "outputId": "b43ea128-99b4-4436-85dc-64f4cfbd2650"
      },
      "outputs": [
        {
          "output_type": "stream",
          "name": "stdout",
          "text": [
            "data: (6000, 48, 48, 3) labels: (6000,)\n",
            "Age of this person is: 46\n"
          ]
        },
        {
          "output_type": "display_data",
          "data": {
            "text/plain": [
              "<Figure size 640x480 with 1 Axes>"
            ],
            "image/png": "[encoded data removed]"
          },
          "metadata": {}
        }
      ],
      "source": [
        "print(\"data:\", faces_rgb_trainval.shape, \"labels:\", age_labels_trainval.shape)\n",
        "plt.imshow(faces_rgb_train[1])\n",
        "print(\"Age of this person is:\", age_labels_train[1].astype('int'))"
      ]
    },
    {
      "cell_type": "code",
      "execution_count": 45,
      "metadata": {
        "colab": {
          "base_uri": "https://localhost:8080/"
        },
        "id": "MXi-7pVg5r0W",
        "outputId": "061f8391-8337-43e8-b94e-3f677a0e1fec"
      },
      "outputs": [
        {
          "output_type": "stream",
          "name": "stdout",
          "text": [
            "(5500, 48, 48, 3)\n",
            "(5500,)\n",
            "(1500,)\n"
          ]
        }
      ],
      "source": [
        "# input_shape = (224, 224, 3)\n",
        "# num_classes = 1\n",
        "\n",
        "# train_images = tf.image.resize(faces_rgb_train, (input_shape[0], input_shape[1]))\n",
        "# val_images = tf.image.resize(faces_rgb_val, (input_shape[0], input_shape[1]))\n",
        "# test_images = tf.image.resize(faces_rgb_test, (input_shape[0], input_shape[1]))\n",
        "\n",
        "age_labels_train = age_labels_train.astype('float32')\n",
        "age_labels_val = age_labels_val.astype('float32')\n",
        "age_labels_test = age_labels_test.astype('float32')\n",
        "print(faces_rgb_train.shape)\n",
        "print(age_labels_train.shape)\n",
        "print(age_labels_test.shape)"
      ]
    },
    {
      "cell_type": "code",
      "execution_count": 46,
      "metadata": {
        "colab": {
          "base_uri": "https://localhost:8080/"
        },
        "id": "I401QPrO65qe",
        "outputId": "b16ef563-7cb6-4d95-bef8-84b11c98e80c"
      },
      "outputs": [
        {
          "output_type": "stream",
          "name": "stdout",
          "text": [
            "Epoch 1/30\n",
            "170/172 [============================>.] - ETA: 0s - loss: 316.4487 - mse: 316.4487\n",
            "Epoch 1: val_loss improved from inf to 230.94365, saving model to final_model.weights.best.hdf5\n",
            "172/172 [==============================] - 9s 27ms/step - loss: 315.1142 - mse: 315.1142 - val_loss: 230.9436 - val_mse: 230.9436\n",
            "Epoch 2/30\n",
            "171/172 [============================>.] - ETA: 0s - loss: 219.2391 - mse: 219.2391\n",
            "Epoch 2: val_loss improved from 230.94365 to 223.43481, saving model to final_model.weights.best.hdf5\n",
            "172/172 [==============================] - 4s 21ms/step - loss: 219.3547 - mse: 219.3547 - val_loss: 223.4348 - val_mse: 223.4348\n",
            "Epoch 3/30\n",
            "171/172 [============================>.] - ETA: 0s - loss: 213.1149 - mse: 213.1149\n",
            "Epoch 3: val_loss did not improve from 223.43481\n",
            "172/172 [==============================] - 3s 20ms/step - loss: 212.8770 - mse: 212.8770 - val_loss: 224.1610 - val_mse: 224.1610\n",
            "Epoch 4/30\n",
            "170/172 [============================>.] - ETA: 0s - loss: 208.9355 - mse: 208.9355\n",
            "Epoch 4: val_loss improved from 223.43481 to 215.19318, saving model to final_model.weights.best.hdf5\n",
            "172/172 [==============================] - 4s 21ms/step - loss: 209.1920 - mse: 209.1920 - val_loss: 215.1932 - val_mse: 215.1932\n",
            "Epoch 5/30\n",
            "171/172 [============================>.] - ETA: 0s - loss: 204.6415 - mse: 204.6415\n",
            "Epoch 5: val_loss improved from 215.19318 to 208.95747, saving model to final_model.weights.best.hdf5\n",
            "172/172 [==============================] - 4s 21ms/step - loss: 204.3024 - mse: 204.3024 - val_loss: 208.9575 - val_mse: 208.9575\n",
            "Epoch 6/30\n",
            "171/172 [============================>.] - ETA: 0s - loss: 199.9973 - mse: 199.9973\n",
            "Epoch 6: val_loss improved from 208.95747 to 206.61728, saving model to final_model.weights.best.hdf5\n",
            "172/172 [==============================] - 4s 23ms/step - loss: 199.7521 - mse: 199.7521 - val_loss: 206.6173 - val_mse: 206.6173\n",
            "Epoch 7/30\n",
            "172/172 [==============================] - ETA: 0s - loss: 198.0234 - mse: 198.0234\n",
            "Epoch 7: val_loss improved from 206.61728 to 204.01535, saving model to final_model.weights.best.hdf5\n",
            "172/172 [==============================] - 4s 21ms/step - loss: 198.0234 - mse: 198.0234 - val_loss: 204.0154 - val_mse: 204.0154\n",
            "Epoch 8/30\n",
            "169/172 [============================>.] - ETA: 0s - loss: 195.7589 - mse: 195.7589\n",
            "Epoch 8: val_loss did not improve from 204.01535\n",
            "172/172 [==============================] - 3s 18ms/step - loss: 196.0714 - mse: 196.0714 - val_loss: 210.3815 - val_mse: 210.3815\n",
            "Epoch 9/30\n",
            "172/172 [==============================] - ETA: 0s - loss: 195.1278 - mse: 195.1278\n",
            "Epoch 9: val_loss did not improve from 204.01535\n",
            "172/172 [==============================] - 3s 18ms/step - loss: 195.1278 - mse: 195.1278 - val_loss: 222.5622 - val_mse: 222.5622\n",
            "Epoch 10/30\n",
            "170/172 [============================>.] - ETA: 0s - loss: 192.4627 - mse: 192.4627\n",
            "Epoch 10: val_loss improved from 204.01535 to 200.36147, saving model to final_model.weights.best.hdf5\n",
            "172/172 [==============================] - 4s 25ms/step - loss: 192.8060 - mse: 192.8060 - val_loss: 200.3615 - val_mse: 200.3615\n",
            "Epoch 11/30\n",
            "171/172 [============================>.] - ETA: 0s - loss: 192.0828 - mse: 192.0828\n",
            "Epoch 11: val_loss improved from 200.36147 to 198.82640, saving model to final_model.weights.best.hdf5\n",
            "172/172 [==============================] - 4s 21ms/step - loss: 191.7423 - mse: 191.7423 - val_loss: 198.8264 - val_mse: 198.8264\n",
            "Epoch 12/30\n",
            "171/172 [============================>.] - ETA: 0s - loss: 188.1162 - mse: 188.1162\n",
            "Epoch 12: val_loss improved from 198.82640 to 197.73607, saving model to final_model.weights.best.hdf5\n",
            "172/172 [==============================] - 4s 21ms/step - loss: 189.2447 - mse: 189.2447 - val_loss: 197.7361 - val_mse: 197.7361\n",
            "Epoch 13/30\n",
            "171/172 [============================>.] - ETA: 0s - loss: 190.9550 - mse: 190.9550\n",
            "Epoch 13: val_loss did not improve from 197.73607\n",
            "172/172 [==============================] - 4s 21ms/step - loss: 190.8125 - mse: 190.8125 - val_loss: 198.2378 - val_mse: 198.2378\n",
            "Epoch 14/30\n",
            "171/172 [============================>.] - ETA: 0s - loss: 187.5096 - mse: 187.5096\n",
            "Epoch 14: val_loss did not improve from 197.73607\n",
            "172/172 [==============================] - 3s 18ms/step - loss: 187.8819 - mse: 187.8819 - val_loss: 197.8581 - val_mse: 197.8581\n",
            "Epoch 15/30\n",
            "172/172 [==============================] - ETA: 0s - loss: 187.4577 - mse: 187.4577\n",
            "Epoch 15: val_loss did not improve from 197.73607\n",
            "172/172 [==============================] - 3s 18ms/step - loss: 187.4577 - mse: 187.4577 - val_loss: 200.9349 - val_mse: 200.9349\n",
            "Epoch 16/30\n",
            "169/172 [============================>.] - ETA: 0s - loss: 187.8938 - mse: 187.8938\n",
            "Epoch 16: val_loss improved from 197.73607 to 194.82982, saving model to final_model.weights.best.hdf5\n",
            "172/172 [==============================] - 4s 21ms/step - loss: 187.5965 - mse: 187.5965 - val_loss: 194.8298 - val_mse: 194.8298\n",
            "Epoch 17/30\n",
            "169/172 [============================>.] - ETA: 0s - loss: 184.0607 - mse: 184.0607\n",
            "Epoch 17: val_loss did not improve from 194.82982\n",
            "172/172 [==============================] - 3s 20ms/step - loss: 184.0161 - mse: 184.0161 - val_loss: 194.8711 - val_mse: 194.8711\n",
            "Epoch 18/30\n",
            "170/172 [============================>.] - ETA: 0s - loss: 184.2182 - mse: 184.2182\n",
            "Epoch 18: val_loss did not improve from 194.82982\n",
            "172/172 [==============================] - 3s 19ms/step - loss: 184.6190 - mse: 184.6190 - val_loss: 205.0432 - val_mse: 205.0432\n",
            "Epoch 19/30\n",
            "172/172 [==============================] - ETA: 0s - loss: 185.7414 - mse: 185.7414\n",
            "Epoch 19: val_loss improved from 194.82982 to 193.21545, saving model to final_model.weights.best.hdf5\n",
            "172/172 [==============================] - 4s 21ms/step - loss: 185.7414 - mse: 185.7414 - val_loss: 193.2155 - val_mse: 193.2155\n",
            "Epoch 20/30\n",
            "170/172 [============================>.] - ETA: 0s - loss: 183.3222 - mse: 183.3222\n",
            "Epoch 20: val_loss did not improve from 193.21545\n",
            "172/172 [==============================] - 3s 19ms/step - loss: 183.6099 - mse: 183.6099 - val_loss: 194.8198 - val_mse: 194.8198\n",
            "Epoch 21/30\n",
            "171/172 [============================>.] - ETA: 0s - loss: 183.7622 - mse: 183.7622\n",
            "Epoch 21: val_loss did not improve from 193.21545\n",
            "172/172 [==============================] - 3s 19ms/step - loss: 183.8198 - mse: 183.8198 - val_loss: 202.3373 - val_mse: 202.3373\n",
            "Epoch 22/30\n",
            "170/172 [============================>.] - ETA: 0s - loss: 182.7721 - mse: 182.7721\n",
            "Epoch 22: val_loss did not improve from 193.21545\n",
            "172/172 [==============================] - 3s 18ms/step - loss: 183.0577 - mse: 183.0577 - val_loss: 194.4586 - val_mse: 194.4586\n",
            "Epoch 23/30\n",
            "171/172 [============================>.] - ETA: 0s - loss: 179.8648 - mse: 179.8648\n",
            "Epoch 23: val_loss did not improve from 193.21545\n",
            "172/172 [==============================] - 3s 18ms/step - loss: 179.8958 - mse: 179.8958 - val_loss: 220.3992 - val_mse: 220.3992\n",
            "Epoch 24/30\n",
            "172/172 [==============================] - ETA: 0s - loss: 182.1721 - mse: 182.1721\n",
            "Epoch 24: val_loss did not improve from 193.21545\n",
            "172/172 [==============================] - 3s 20ms/step - loss: 182.1721 - mse: 182.1721 - val_loss: 193.6981 - val_mse: 193.6981\n",
            "Epoch 25/30\n",
            "172/172 [==============================] - ETA: 0s - loss: 180.3846 - mse: 180.3846\n",
            "Epoch 25: val_loss did not improve from 193.21545\n",
            "172/172 [==============================] - 3s 18ms/step - loss: 180.3846 - mse: 180.3846 - val_loss: 194.0184 - val_mse: 194.0184\n",
            "Epoch 26/30\n",
            "170/172 [============================>.] - ETA: 0s - loss: 178.0973 - mse: 178.0973\n",
            "Epoch 26: val_loss improved from 193.21545 to 191.14980, saving model to final_model.weights.best.hdf5\n",
            "172/172 [==============================] - 4s 22ms/step - loss: 179.1857 - mse: 179.1857 - val_loss: 191.1498 - val_mse: 191.1498\n",
            "Epoch 27/30\n",
            "171/172 [============================>.] - ETA: 0s - loss: 179.4552 - mse: 179.4552\n",
            "Epoch 27: val_loss did not improve from 191.14980\n",
            "172/172 [==============================] - 3s 18ms/step - loss: 179.5190 - mse: 179.5190 - val_loss: 191.9236 - val_mse: 191.9236\n",
            "Epoch 28/30\n",
            "169/172 [============================>.] - ETA: 0s - loss: 178.4414 - mse: 178.4414\n",
            "Epoch 28: val_loss did not improve from 191.14980\n",
            "172/172 [==============================] - 4s 21ms/step - loss: 177.7691 - mse: 177.7691 - val_loss: 194.5526 - val_mse: 194.5526\n",
            "Epoch 29/30\n",
            "172/172 [==============================] - ETA: 0s - loss: 180.9464 - mse: 180.9464\n",
            "Epoch 29: val_loss improved from 191.14980 to 190.81418, saving model to final_model.weights.best.hdf5\n",
            "172/172 [==============================] - 4s 21ms/step - loss: 180.9464 - mse: 180.9464 - val_loss: 190.8142 - val_mse: 190.8142\n",
            "Epoch 30/30\n",
            "172/172 [==============================] - ETA: 0s - loss: 177.7907 - mse: 177.7907\n",
            "Epoch 30: val_loss did not improve from 190.81418\n",
            "172/172 [==============================] - 3s 18ms/step - loss: 177.7907 - mse: 177.7907 - val_loss: 193.7686 - val_mse: 193.7686\n",
            "47/47 [==============================] - 1s 20ms/step - loss: 164.2970 - mse: 164.2970\n",
            "Test RMSE =  12.817837231527998\n"
          ]
        }
      ],
      "source": [
        "#Creating and training the Resnet50 model\n",
        "\n",
        "#Loading the ResNet50 model from tensorflow\n",
        "resnet_model = ResNet50(weights='imagenet', include_top = False, input_shape = (48,48,3))  \n",
        "#Imagenet-using pretrainied weights, include_top-removing the last FC network to output a real number hence False\n",
        "\n",
        "#Freexing the layers\n",
        "for layer in resnet_model.layers:\n",
        "  layer.trainable = False\n",
        "\n",
        "#Replacing the last layer with a new dense layer to get a real number as an output\n",
        "# x = Dense(1, activation='linear')(resnet_model.layers[-2].output)\n",
        "# x = resnet_model.output\n",
        "# x = GlobalAveragePooling2D()(x)\n",
        "# x = Dense(256,activation='relu')(x)\n",
        "# x = Dense(128,activation='relu')(x)\n",
        "# x = Dense(1, activation='linear')(x)\n",
        "x=Flatten()(resnet_model.output)\n",
        "x=Dense(256,activation='relu')(x)\n",
        "x=Dense(128,activation='relu')(x)\n",
        "x = Dense(1)(x)\n",
        "\n",
        "#Creating a new model\n",
        "model = Model(inputs=resnet_model.input, outputs=x)\n",
        "\n",
        "#Compiling the model\n",
        "model.compile(optimizer=tf.keras.optimizers.Adam(learning_rate=0.00025), loss='mse', metrics=['mse'])\n",
        "checkpointer = ModelCheckpoint(filepath='final_model.weights.best.hdf5', verbose=1, save_best_only=True)\n",
        "#Training the model\n",
        "history = model.fit(faces_rgb_train, age_labels_train, epochs = 30, batch_size = 32, validation_data=(faces_rgb_val, age_labels_val), callbacks=[checkpointer])\n",
        "\n",
        "results = model.evaluate(faces_rgb_test, age_labels_test, batch_size=32)\n",
        "print(\"Test RMSE = \", np.sqrt(results[1]))"
      ]
    }
  ],
  "metadata": {
    "colab": {
      "provenance": []
    },
    "kernelspec": {
      "display_name": "Python 3",
      "name": "python3"
    },
    "language_info": {
      "name": "python"
    },
    "accelerator": "GPU",
    "gpuClass": "standard"
  },
  "nbformat": 4,
  "nbformat_minor": 0
}